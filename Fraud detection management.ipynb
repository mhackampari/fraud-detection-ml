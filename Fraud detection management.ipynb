{
 "cells": [
  {
   "cell_type": "code",
   "execution_count": 24,
   "metadata": {},
   "outputs": [],
   "source": [
    "# models\n",
    "from sklearn.linear_model import LogisticRegression\n",
    "from sklearn.tree import DecisionTreeClassifier\n",
    "from sklearn.svm import LinearSVC\n",
    "from sklearn.ensemble import RandomForestClassifier\n",
    "from sklearn.dummy import DummyClassifier\n",
    "from sklearn.neural_network import MLPClassifier\n",
    "# model selection and optimization\n",
    "from sklearn.model_selection import StratifiedShuffleSplit\n",
    "from sklearn.model_selection import RandomizedSearchCV\n",
    "# feature selection\n",
    "from sklearn.feature_selection import SelectFromModel\n",
    "# model evaluation\n",
    "from sklearn.metrics import *\n",
    "# data split train-test\n",
    "from sklearn.model_selection import train_test_split\n",
    "\n",
    "import numpy as np\n",
    "import pandas as pd\n",
    "import matplotlib as plt\n",
    "import seaborn as sb\n",
    "\n",
    "from os import path\n",
    "\n",
    "import time\n",
    "import warnings\n",
    "\n",
    "warnings.filterwarnings(action='ignore')\n",
    "orig_data_df = pd.read_csv('./dataset/creditcard.csv')"
   ]
  },
  {
   "cell_type": "markdown",
   "metadata": {},
   "source": [
    "# First glance on data"
   ]
  },
  {
   "cell_type": "code",
   "execution_count": 2,
   "metadata": {},
   "outputs": [
    {
     "name": "stdout",
     "output_type": "stream",
     "text": [
      "Dataset dimension:  (284807, 31)\n",
      "Attributes:  Index(['Time', 'V1', 'V2', 'V3', 'V4', 'V5', 'V6', 'V7', 'V8', 'V9', 'V10',\n",
      "       'V11', 'V12', 'V13', 'V14', 'V15', 'V16', 'V17', 'V18', 'V19', 'V20',\n",
      "       'V21', 'V22', 'V23', 'V24', 'V25', 'V26', 'V27', 'V28', 'Amount',\n",
      "       'Class'],\n",
      "      dtype='object')\n",
      "\n",
      "Show first 5 rows:\n",
      "    Time  Amount  Class\n",
      "0   0.0  149.62      0\n",
      "1   0.0    2.69      0\n",
      "2   1.0  378.66      0\n",
      "3   1.0  123.50      0\n",
      "4   2.0   69.99      0\n",
      "\n",
      "Describe dataset:\n",
      "                 Time         Amount          Class\n",
      "count  284807.000000  284807.000000  284807.000000\n",
      "mean    94813.859575      88.349619       0.001727\n",
      "std     47488.145955     250.120109       0.041527\n",
      "min         0.000000       0.000000       0.000000\n",
      "25%     54201.500000       5.600000       0.000000\n",
      "50%     84692.000000      22.000000       0.000000\n",
      "75%    139320.500000      77.165000       0.000000\n",
      "max    172792.000000   25691.160000       1.000000\n",
      "\n",
      "Class distribution:\n",
      " Class  Class\n",
      "0      0        284315\n",
      "1      1           492\n",
      "Name: Class, dtype: int64\n"
     ]
    }
   ],
   "source": [
    "print(\"Dataset dimension: \", orig_data_df.shape)\n",
    "print(\"Attributes: \", orig_data_df.columns)\n",
    "print(\"\\nShow first 5 rows:\\n\", orig_data_df[['Time', 'Amount', 'Class']].head(5))\n",
    "print(\"\\nDescribe dataset:\\n\", orig_data_df[['Time', 'Amount', 'Class']].describe())\n",
    "print(\"\\nClass distribution:\\n\", orig_data_df.groupby('Class')['Class'].value_counts())"
   ]
  },
  {
   "cell_type": "markdown",
   "metadata": {},
   "source": [
    "# Divide dataset into train and test samples\n",
    "## Train: 80% Test: 20%"
   ]
  },
  {
   "cell_type": "code",
   "execution_count": 3,
   "metadata": {},
   "outputs": [
    {
     "name": "stdout",
     "output_type": "stream",
     "text": [
      "\n",
      "Size training instances: (227845, 31)\n",
      "Size test instances: (56962, 31)\n",
      "\n",
      "Groupby 'class' training dataset:\n",
      "\n",
      "  Class\n",
      "0    227451\n",
      "1       394\n",
      "Name: Class, dtype: int64\n",
      "\n",
      "Groupby 'class' test dataset:\n",
      "\n",
      "  Class\n",
      "0    56864\n",
      "1       98\n",
      "Name: Class, dtype: int64\n"
     ]
    }
   ],
   "source": [
    "## Divide dataset into train and test samples\n",
    "### Train: 80% Test: 20%\n",
    "train_dataset_df, test_dataset_df = train_test_split(orig_data_df, test_size=.2, shuffle=True, stratify=orig_data_df[['Class']])\n",
    "\n",
    "# We expect the following distribution: Train: 227845 {394 istances of class 1, 227452 istances of class 0}\n",
    "print(\"\\nSize training instances: {}\\nSize test instances: {}\".format(train_dataset_df.shape, test_dataset_df.shape))\n",
    "print(\"\\nGroupby 'class' training dataset:\\n\\n \", train_dataset_df.groupby('Class')['Class'].count())\n",
    "print(\"\\nGroupby 'class' test dataset:\\n\\n \", test_dataset_df.groupby('Class')['Class'].count())"
   ]
  },
  {
   "cell_type": "markdown",
   "metadata": {},
   "source": [
    "# Save datasets.\n",
    "### ATTENTION: It is allowed to use fraud_testing.csv only once when the model is ready for final tests!!!!"
   ]
  },
  {
   "cell_type": "code",
   "execution_count": 4,
   "metadata": {},
   "outputs": [
    {
     "name": "stdout",
     "output_type": "stream",
     "text": [
      "ATTENTION: It is allowed to use fraud_testing.csv only once when the model is ready for final tests!!!!\n"
     ]
    }
   ],
   "source": [
    "# Save datasets.\n",
    "# ATTENTION: It is allowed to use fraud_testing.csv only once when the model is ready for final tests!!!!\n",
    "print('ATTENTION: It is allowed to use fraud_testing.csv only once when the model is ready for final tests!!!!')\n",
    "if path.exists('./dataset/fraud_testing.csv') != True:\n",
    "    train_dataset_df.to_csv('./dataset/fraud_training.csv')\n",
    "    test_dataset_df.loc[test_idx].to_csv('./dataset/fraud_testing.csv')\n",
    "    print(pd.read_csv('./dataset/fraud_testing.csv').groupby('Class')['Class'].count())"
   ]
  },
  {
   "cell_type": "markdown",
   "metadata": {},
   "source": [
    "# Building a baseline model"
   ]
  },
  {
   "cell_type": "markdown",
   "metadata": {},
   "source": [
    "## Load previously saved training dataset and split it into test and training samples"
   ]
  },
  {
   "cell_type": "code",
   "execution_count": 13,
   "metadata": {},
   "outputs": [
    {
     "name": "stdout",
     "output_type": "stream",
     "text": [
      "\n",
      " Show dimensions: \n",
      "\n",
      "\n",
      "Training baseline dataset:\n",
      "(182276, 31)\n",
      "\n",
      "Testing baseline dataset:\n",
      "(45569, 31)\n",
      "\n",
      " Show distributions of 'Class': \n",
      "\n",
      "\n",
      "Training baseline dataset\n",
      "\n",
      "Class\n",
      "0    181961\n",
      "1       315\n",
      "Name: Class, dtype: int64\n",
      "\n",
      "Testing baseline dataset\n",
      "\n",
      "Class\n",
      "0    45490\n",
      "1       79\n",
      "Name: Class, dtype: int64\n"
     ]
    }
   ],
   "source": [
    "# Load previously saved training dataset and split it into test and training samples\n",
    "training_data_df = pd.read_csv('./dataset/fraud_training.csv', index_col=0)\n",
    "df_train_train, df_test_train = train_test_split(training_data_df, test_size=.2, shuffle=True, stratify=training_data_df[['Class']], random_state=np.random.RandomState())\n",
    "\n",
    "print(\"\\n Show dimensions: \\n\\n\")\n",
    "print(\"Training baseline dataset:\")\n",
    "print(df_train_train.shape)\n",
    "print(\"\\nTesting baseline dataset:\")\n",
    "print(df_test_train.shape)\n",
    "\n",
    "print(\"\\n Show distributions of 'Class': \\n\\n\")\n",
    "print(\"Training baseline dataset\\n\")\n",
    "print(df_train_train.groupby('Class')['Class'].count())\n",
    "print(\"\\nTesting baseline dataset\\n\")\n",
    "print(df_test_train.groupby('Class')['Class'].count())"
   ]
  },
  {
   "cell_type": "markdown",
   "metadata": {},
   "source": [
    "## Pickup the best baseline model and show its stats"
   ]
  },
  {
   "cell_type": "code",
   "execution_count": 33,
   "metadata": {},
   "outputs": [
    {
     "name": "stdout",
     "output_type": "stream",
     "text": [
      "********************************************************************************\n",
      "Training model DummyClassifier_default\n",
      "\n",
      "\n",
      "              precision    recall  f1-score   support\n",
      "\n",
      "           0       1.00      1.00      1.00     45490\n",
      "           1       0.00      0.00      0.00        79\n",
      "\n",
      "    accuracy                           1.00     45569\n",
      "   macro avg       0.50      0.50      0.50     45569\n",
      "weighted avg       1.00      1.00      1.00     45569\n",
      "\n",
      "roc_auc_score_weighted:  0.4992635744119587\n",
      "\n",
      "Confusion matrix:\n",
      "[[45423    67]\n",
      " [   79     0]]\n",
      "\n",
      "\n",
      "Training time:  0.012042045593261719\n",
      "********************************************************************************\n",
      "Training model LogisticRegression_default\n",
      "\n",
      "\n",
      "              precision    recall  f1-score   support\n",
      "\n",
      "           0       1.00      1.00      1.00     45490\n",
      "           1       0.65      0.61      0.63        79\n",
      "\n",
      "    accuracy                           1.00     45569\n",
      "   macro avg       0.82      0.80      0.81     45569\n",
      "weighted avg       1.00      1.00      1.00     45569\n",
      "\n",
      "roc_auc_score_weighted:  0.8035116912605637\n",
      "\n",
      "Confusion matrix:\n",
      "[[45464    26]\n",
      " [   31    48]]\n",
      "\n",
      "\n",
      "Training time:  4.9558916091918945\n",
      "********************************************************************************\n",
      "Training model DecisionTrees_default\n",
      "\n",
      "\n",
      "              precision    recall  f1-score   support\n",
      "\n",
      "           0       1.00      1.00      1.00     45490\n",
      "           1       0.70      0.72      0.71        79\n",
      "\n",
      "    accuracy                           1.00     45569\n",
      "   macro avg       0.85      0.86      0.86     45569\n",
      "weighted avg       1.00      1.00      1.00     45569\n",
      "\n",
      "roc_auc_score_weighted:  0.8604956994303936\n",
      "\n",
      "Confusion matrix:\n",
      "[[45466    24]\n",
      " [   22    57]]\n",
      "\n",
      "\n",
      "Training time:  26.27776551246643\n",
      "********************************************************************************\n",
      "Training model RandomForest_default\n",
      "\n",
      "\n",
      "              precision    recall  f1-score   support\n",
      "\n",
      "           0       1.00      1.00      1.00     45490\n",
      "           1       0.97      0.71      0.82        79\n",
      "\n",
      "    accuracy                           1.00     45569\n",
      "   macro avg       0.98      0.85      0.91     45569\n",
      "weighted avg       1.00      1.00      1.00     45569\n",
      "\n",
      "roc_auc_score_weighted:  0.854408396893461\n",
      "\n",
      "Confusion matrix:\n",
      "[[45488     2]\n",
      " [   23    56]]\n",
      "\n",
      "\n",
      "Training time:  247.47383642196655\n",
      "********************************************************************************\n",
      "Training model SVM_default\n",
      "\n",
      "\n",
      "              precision    recall  f1-score   support\n",
      "\n",
      "           0       1.00      1.00      1.00     45490\n",
      "           1       0.60      0.15      0.24        79\n",
      "\n",
      "    accuracy                           1.00     45569\n",
      "   macro avg       0.80      0.58      0.62     45569\n",
      "weighted avg       1.00      1.00      1.00     45569\n",
      "\n",
      "roc_auc_score_weighted:  0.5758614356751101\n",
      "\n",
      "Confusion matrix:\n",
      "[[45482     8]\n",
      " [   67    12]]\n",
      "\n",
      "\n",
      "Training time:  42.78104615211487\n",
      "********************************************************************************\n",
      "Training model MLPClassifier_default\n",
      "\n",
      "\n",
      "              precision    recall  f1-score   support\n",
      "\n",
      "           0       1.00      1.00      1.00     45490\n",
      "           1       0.65      0.49      0.56        79\n",
      "\n",
      "    accuracy                           1.00     45569\n",
      "   macro avg       0.82      0.75      0.78     45569\n",
      "weighted avg       1.00      1.00      1.00     45569\n",
      "\n",
      "roc_auc_score_weighted:  0.7466046230775438\n",
      "\n",
      "Confusion matrix:\n",
      "[[45469    21]\n",
      " [   40    39]]\n",
      "\n",
      "\n",
      "Training time:  1620.3272895812988\n"
     ]
    }
   ],
   "source": [
    "# Pickup the best baseline model and show its stats\n",
    "\n",
    "import time\n",
    "\n",
    "set_classifiers = {\n",
    "    'DummyClassifier': {\n",
    "        'model': DummyClassifier()\n",
    "    },\n",
    "    'LogisticRegression': {\n",
    "        'model': LogisticRegression()\n",
    "    },\n",
    "    'DecisionTrees': {\n",
    "        'model': DecisionTreeClassifier()\n",
    "    },\n",
    "    'RandomForest': {\n",
    "        'model': RandomForestClassifier()\n",
    "    },\n",
    "    'SVM': {\n",
    "        'model': LinearSVC()\n",
    "    },\n",
    "    'MLPClassifier': {\n",
    "        'model': MLPClassifier()\n",
    "    }\n",
    "}\n",
    "\n",
    "X_train_baseline = df_train_train.iloc[:, :-1]\n",
    "y_train_baseline = df_train_train[['Class']].to_numpy().flatten()\n",
    "\n",
    "X_test_baseline = df_test_train.iloc[:, :-1]\n",
    "y_test_baseline = df_test_train[['Class']].to_numpy().flatten()\n",
    "\n",
    "for model_name, model_info in set_classifiers.items():\n",
    "    print('*'*80)\n",
    "    model_name = model_name + '_default'\n",
    "    print(f'Training model {str(model_name)}\\n')\n",
    "\n",
    "    clf = model_info['model']\n",
    "    start = time.time()\n",
    "    clf.fit(X_train_baseline, y_train_baseline)\n",
    "    y_pred_baseline = clf.predict(X_test_baseline)\n",
    "    end = time.time()\n",
    "    print(\"\\n{}\".format(classification_report(y_test_baseline, y_pred_baseline)))\n",
    "    print('roc_auc_score_weighted: ', roc_auc_score(y_test_baseline, y_pred_baseline, average='weighted'))\n",
    "    print(\"\\nConfusion matrix:\\n{}\\n\".format(confusion_matrix(y_test_baseline, y_pred_baseline)))\n",
    "    print(\"\\nTraining time: \", end-start)"
   ]
  },
  {
   "cell_type": "markdown",
   "metadata": {},
   "source": [
    "## Data exploration"
   ]
  },
  {
   "cell_type": "markdown",
   "metadata": {},
   "source": [
    "### We consider only Amount and Time variables while the others V1, ..., V31, are left from the analysis because they are derived from PCA"
   ]
  },
  {
   "cell_type": "code",
   "execution_count": 7,
   "metadata": {},
   "outputs": [
    {
     "data": {
      "text/plain": [
       "<seaborn.axisgrid.PairGrid at 0x7fb41dbecf10>"
      ]
     },
     "execution_count": 7,
     "metadata": {},
     "output_type": "execute_result"
    },
    {
     "data": {
      "image/png": "[encoded data removed]",
      "text/plain": [
       "<Figure size 402.375x360 with 6 Axes>"
      ]
     },
     "metadata": {
      "needs_background": "light"
     },
     "output_type": "display_data"
    }
   ],
   "source": [
    "sb.pairplot(training_data_df.loc[:, ['Amount', 'Time', 'Class']], hue=\"Class\")"
   ]
  },
  {
   "cell_type": "markdown",
   "metadata": {},
   "source": [
    "### Drill down on 'Amount' variable"
   ]
  },
  {
   "cell_type": "code",
   "execution_count": 5,
   "metadata": {},
   "outputs": [
    {
     "name": "stdout",
     "output_type": "stream",
     "text": [
      "          count        mean         std  min   25%    50%      75%       95%  \\\n",
      "Class                                                                          \n",
      "0      227451.0   88.102649  250.200573  0.0  5.54  21.99   76.800  364.4400   \n",
      "1         394.0  123.406980  264.490897  0.0  1.00   9.17  103.375  654.8425   \n",
      "\n",
      "             99%       max  \n",
      "Class                       \n",
      "0      1020.0000  25691.16  \n",
      "1      1356.7217   2125.87  \n"
     ]
    },
    {
     "data": {
      "text/plain": [
       "<seaborn.axisgrid.FacetGrid at 0x7f42258c9850>"
      ]
     },
     "execution_count": 5,
     "metadata": {},
     "output_type": "execute_result"
    },
    {
     "data": {
      "image/png": "[encoded data removed]",
      "text/plain": [
       "<Figure size 360x360 with 1 Axes>"
      ]
     },
     "metadata": {
      "needs_background": "light"
     },
     "output_type": "display_data"
    },
    {
     "data": {
      "image/png": "[encoded data removed]",
      "text/plain": [
       "<Figure size 360x360 with 1 Axes>"
      ]
     },
     "metadata": {
      "needs_background": "light"
     },
     "output_type": "display_data"
    },
    {
     "data": {
      "image/png": "[encoded data removed]",
      "text/plain": [
       "<Figure size 360x360 with 1 Axes>"
      ]
     },
     "metadata": {
      "needs_background": "light"
     },
     "output_type": "display_data"
    }
   ],
   "source": [
    "data_training_amount = training_data_df.loc[:, ['Amount', 'Class']]\n",
    "print(data_training_amount.groupby(\"Class\")[\"Amount\"].describe(percentiles=[.25, .5, .75, .95, .99]))\n",
    "sb.catplot(x=\"Class\", y=\"Amount\", kind=\"box\", data=data_training_amount)\n",
    "sb.catplot(x=\"Class\", y=\"Amount\", kind=\"bar\", data=data_training_amount)\n",
    "sb.catplot(x=\"Class\", y=\"Amount\", data=data_training_amount)\n"
   ]
  },
  {
   "cell_type": "markdown",
   "metadata": {},
   "source": [
    "### Drill down on 'Time' variable"
   ]
  },
  {
   "cell_type": "code",
   "execution_count": 8,
   "metadata": {},
   "outputs": [
    {
     "name": "stdout",
     "output_type": "stream",
     "text": [
      "          count          mean           std    min       25%      50%  \\\n",
      "Class                                                                   \n",
      "0      227451.0  94751.122976  47498.595588    0.0  54177.00  84606.0   \n",
      "1         394.0  80365.677665  47517.511566  406.0  41309.25  73783.5   \n",
      "\n",
      "            75%       95%        99%       max  \n",
      "Class                                           \n",
      "0      139241.5  164129.0  170578.50  172792.0  \n",
      "1      125509.0  156217.0  169156.35  170348.0  \n"
     ]
    },
    {
     "data": {
      "text/plain": [
       "<seaborn.axisgrid.FacetGrid at 0x7f4225425310>"
      ]
     },
     "execution_count": 8,
     "metadata": {},
     "output_type": "execute_result"
    },
    {
     "data": {
      "image/png": "[encoded data removed]",
      "text/plain": [
       "<Figure size 360x360 with 1 Axes>"
      ]
     },
     "metadata": {
      "needs_background": "light"
     },
     "output_type": "display_data"
    },
    {
     "data": {
      "image/png": "[encoded data removed]",
      "text/plain": [
       "<Figure size 360x360 with 1 Axes>"
      ]
     },
     "metadata": {
      "needs_background": "light"
     },
     "output_type": "display_data"
    },
    {
     "data": {
      "image/png": "[encoded data removed]",
      "text/plain": [
       "<Figure size 360x360 with 1 Axes>"
      ]
     },
     "metadata": {
      "needs_background": "light"
     },
     "output_type": "display_data"
    }
   ],
   "source": [
    "data_training_time = training_data_df.loc[:, ['Time', 'Class']]\n",
    "print(data_training_time.groupby(\"Class\")[\"Time\"].describe(percentiles=[.25, .5, .75, .95, .99]))\n",
    "sb.catplot(x=\"Class\", y=\"Time\", kind=\"box\", data=data_training_time)\n",
    "sb.catplot(x=\"Class\", y=\"Time\", kind=\"bar\", data=data_training_time)\n",
    "sb.catplot(x=\"Class\", y=\"Time\", data=data_training_time)"
   ]
  },
  {
   "cell_type": "markdown",
   "metadata": {},
   "source": [
    "### Transform 'Time' into 24 hours interval"
   ]
  },
  {
   "cell_type": "code",
   "execution_count": 9,
   "metadata": {},
   "outputs": [
    {
     "name": "stdout",
     "output_type": "stream",
     "text": [
      "          count       mean       std  min   25%   50%   75%   95%   99%   max\n",
      "Class                                                                        \n",
      "0      227451.0  14.050503  5.833410  0.0  10.0  15.0  19.0  22.0  23.0  23.0\n",
      "1         394.0  11.657360  6.681169  0.0   5.0  12.0  17.0  22.0  23.0  23.0\n"
     ]
    },
    {
     "data": {
      "text/plain": [
       "<seaborn.axisgrid.FacetGrid at 0x7f42254ff710>"
      ]
     },
     "execution_count": 9,
     "metadata": {},
     "output_type": "execute_result"
    },
    {
     "data": {
      "image/png": "[encoded data removed]",
      "text/plain": [
       "<Figure size 360x360 with 1 Axes>"
      ]
     },
     "metadata": {
      "needs_background": "light"
     },
     "output_type": "display_data"
    },
    {
     "data": {
      "image/png": "[encoded data removed]",
      "text/plain": [
       "<Figure size 360x360 with 1 Axes>"
      ]
     },
     "metadata": {
      "needs_background": "light"
     },
     "output_type": "display_data"
    },
    {
     "data": {
      "image/png": "[encoded data removed]",
      "text/plain": [
       "<Figure size 360x360 with 1 Axes>"
      ]
     },
     "metadata": {
      "needs_background": "light"
     },
     "output_type": "display_data"
    }
   ],
   "source": [
    "# transform into 24 hours\n",
    "data_training_time.loc[:, 'Time'] = data_training_time.loc[:, 'Time'].apply(lambda x: int(x / 3600 % 24))\n",
    "print(data_training_time.groupby(\"Class\")[\"Time\"].describe(percentiles=[.25, .5, .75, .95, .99]))\n",
    "sb.catplot(x=\"Class\", y=\"Time\", kind=\"box\", data=data_training_time)\n",
    "sb.catplot(x=\"Class\", y=\"Time\", kind=\"bar\", data=data_training_time)\n",
    "sb.catplot(x=\"Class\", y=\"Time\", data=data_training_time)"
   ]
  },
  {
   "cell_type": "code",
   "execution_count": 10,
   "metadata": {},
   "outputs": [
    {
     "data": {
      "text/plain": [
       "array([<matplotlib.axes._subplots.AxesSubplot object at 0x7f422545e450>,\n",
       "       <matplotlib.axes._subplots.AxesSubplot object at 0x7f42253fb7d0>],\n",
       "      dtype=object)"
      ]
     },
     "execution_count": 10,
     "metadata": {},
     "output_type": "execute_result"
    },
    {
     "data": {
      "image/png": "[encoded data removed]",
      "text/plain": [
       "<Figure size 222.375x180 with 2 Axes>"
      ]
     },
     "metadata": {
      "needs_background": "light"
     },
     "output_type": "display_data"
    },
    {
     "data": {
      "image/png": "[encoded data removed]",
      "text/plain": [
       "<Figure size 432x288 with 2 Axes>"
      ]
     },
     "metadata": {
      "needs_background": "light"
     },
     "output_type": "display_data"
    }
   ],
   "source": [
    "sb.pairplot(data_training_time, kind='hist', x_vars='Time', y_vars='Time', hue=\"Class\")\n",
    "\n",
    "time_grp = data_training_time.groupby([\"Time\", \"Class\"])['Class']\n",
    "time=time_grp.size().unstack(level=1)\n",
    "class1 = time.iloc[:, 1]\n",
    "time.plot(kind='bar', subplots=True)"
   ]
  },
  {
   "cell_type": "code",
   "execution_count": 11,
   "metadata": {},
   "outputs": [
    {
     "data": {
      "text/plain": [
       "<seaborn.axisgrid.FacetGrid at 0x7f42253adb90>"
      ]
     },
     "execution_count": 11,
     "metadata": {},
     "output_type": "execute_result"
    },
    {
     "data": {
      "image/png": "[encoded data removed]",
      "text/plain": [
       "<Figure size 720x360 with 2 Axes>"
      ]
     },
     "metadata": {
      "needs_background": "light"
     },
     "output_type": "display_data"
    }
   ],
   "source": [
    "sb.catplot(x=\"Time\", col=\"Class\", col_wrap=2,\n",
    "                data=data_training_time, dodge=True,\n",
    "                kind=\"count\", sharey=False, hue=\"Class\")"
   ]
  },
  {
   "cell_type": "markdown",
   "metadata": {},
   "source": [
    "### Test 'Time' transformation into 24 hours interval"
   ]
  },
  {
   "cell_type": "code",
   "execution_count": 22,
   "metadata": {},
   "outputs": [],
   "source": [
    "X_trans_train = df_train_train.iloc[:, :-1]\n",
    "X_trans_test = df_test_train.iloc[:, :-1]\n",
    "y_trans_train = df_train_train[['Class']].to_numpy().flatten()\n",
    "y_trans_test = df_test_train[['Class']].to_numpy().flatten()\n",
    "\n",
    "X_trans_train.loc[:, 'Time'] = X_trans_train.loc[:, 'Time'].apply(lambda x: int(x / 3600 % 24))\n",
    "X_trans_test.loc[:, 'Time'] = X_trans_test.loc[:, 'Time'].apply(lambda x: int(x / 3600 % 24))"
   ]
  },
  {
   "cell_type": "code",
   "execution_count": 27,
   "metadata": {},
   "outputs": [
    {
     "name": "stdout",
     "output_type": "stream",
     "text": [
      "********************************************************************************\n",
      "DecisionTreeClassifier\n",
      "\n",
      "              precision    recall  f1-score   support\n",
      "\n",
      "           0       1.00      1.00      1.00     45490\n",
      "           1       0.81      0.73      0.77        79\n",
      "\n",
      "    accuracy                           1.00     45569\n",
      "   macro avg       0.90      0.87      0.88     45569\n",
      "weighted avg       1.00      1.00      1.00     45569\n",
      "\n",
      "roc_auc_score_weighted:  0.8669347276213161\n",
      "\n",
      "Confusion matrix:\n",
      "[[45476    14]\n",
      " [   21    58]]\n",
      "\n",
      "\n",
      "Training time:  27.162827491760254\n",
      "********************************************************************************\n",
      "RandomForestClassifier\n",
      "\n",
      "              precision    recall  f1-score   support\n",
      "\n",
      "           0       1.00      1.00      1.00     45490\n",
      "           1       0.92      0.70      0.79        79\n",
      "\n",
      "    accuracy                           1.00     45569\n",
      "   macro avg       0.96      0.85      0.90     45569\n",
      "weighted avg       1.00      1.00      1.00     45569\n",
      "\n",
      "roc_auc_score_weighted:  0.8480463086893489\n",
      "\n",
      "Confusion matrix:\n",
      "[[45485     5]\n",
      " [   24    55]]\n",
      "\n",
      "\n",
      "Training time:  258.99284768104553\n"
     ]
    }
   ],
   "source": [
    "for clf in [DecisionTreeClassifier(),RandomForestClassifier()]:\n",
    "    print(\"*\"*80)\n",
    "    print(clf.__class__.__name__)\n",
    "    start = time.time()\n",
    "    clf.fit(X_trans_train, y_trans_train)\n",
    "    y_trans_pred = clf.predict(X_trans_test)\n",
    "    end = time.time()\n",
    "    print(\"\\n{}\".format(classification_report(y_trans_test, y_trans_pred)))\n",
    "    print('roc_auc_score_weighted: ', roc_auc_score(y_trans_test, y_trans_pred, average='weighted'))\n",
    "    print(\"\\nConfusion matrix:\\n{}\\n\".format(confusion_matrix(y_trans_test, y_trans_pred)))\n",
    "    print(\"\\nTraining time: \", end-start)"
   ]
  },
  {
   "cell_type": "markdown",
   "metadata": {},
   "source": [
    "## Feature selections"
   ]
  },
  {
   "cell_type": "code",
   "execution_count": 31,
   "metadata": {},
   "outputs": [
    {
     "name": "stdout",
     "output_type": "stream",
     "text": [
      "(182276, 30)\n",
      "(182276,)\n",
      "Important features: \n",
      "\n",
      "Index(['V10', 'V11', 'V12', 'V14', 'V16', 'V17'], dtype='object')\n"
     ]
    }
   ],
   "source": [
    "#sel = SelectFromModel(RandomForestClassifier())\n",
    "print(X_trans_train.shape)\n",
    "print(y_trans_train.shape)\n",
    "#sel.fit(X_trans_train, y_trans_train)\n",
    "print(\"Important features: \\n\")\n",
    "best_features = X_trans_train.columns[(sel.get_support())]\n",
    "print(best_features)"
   ]
  },
  {
   "cell_type": "code",
   "execution_count": 33,
   "metadata": {},
   "outputs": [],
   "source": [
    "X_train_sel = df_train_train.loc[:, best_features]\n",
    "X_test_sel = df_test_train.loc[:, best_features]\n",
    "\n",
    "y_train_sel = df_train_train[['Class']].to_numpy().flatten()\n",
    "y_test_sel = df_test_train[['Class']].to_numpy().flatten()"
   ]
  },
  {
   "cell_type": "code",
   "execution_count": 34,
   "metadata": {},
   "outputs": [
    {
     "name": "stdout",
     "output_type": "stream",
     "text": [
      "\n",
      "              precision    recall  f1-score   support\n",
      "\n",
      "           0       1.00      1.00      1.00     45490\n",
      "           1       0.88      0.72      0.79        79\n",
      "\n",
      "    accuracy                           1.00     45569\n",
      "   macro avg       0.94      0.86      0.90     45569\n",
      "weighted avg       1.00      1.00      1.00     45569\n",
      "\n",
      "roc_auc_score_weighted:  0.8606715622573885\n",
      "\n",
      "Confusion matrix:\n",
      "[[45482     8]\n",
      " [   22    57]]\n",
      "\n"
     ]
    }
   ],
   "source": [
    "clf = RandomForestClassifier()\n",
    "clf.fit(X_train_sel, y_train_sel)\n",
    "y_pred_sel = clf.predict(X_test_sel)\n",
    "print(\"\\n{}\".format(classification_report(y_test_sel, y_pred_sel)))\n",
    "print('roc_auc_score_weighted: ', roc_auc_score(y_test_sel, y_pred_sel, average='weighted'))\n",
    "print(\"\\nConfusion matrix:\\n{}\\n\".format(confusion_matrix(y_test_sel, y_pred_sel)))"
   ]
  },
  {
   "cell_type": "code",
   "execution_count": 44,
   "metadata": {},
   "outputs": [
    {
     "name": "stdout",
     "output_type": "stream",
     "text": [
      "********************************************************************************\n",
      "DecisionTreeClassifier\n",
      "Important features: \n",
      "\n",
      "Index(['V10', 'V12', 'V14', 'V17'], dtype='object')\n",
      "\n",
      "              precision    recall  f1-score   support\n",
      "\n",
      "           0       1.00      1.00      1.00     45490\n",
      "           1       0.73      0.67      0.70        79\n",
      "\n",
      "    accuracy                           1.00     45569\n",
      "   macro avg       0.86      0.84      0.85     45569\n",
      "weighted avg       1.00      1.00      1.00     45569\n",
      "\n",
      "roc_auc_score_weighted:  0.8352232094409398\n",
      "\n",
      "Confusion matrix:\n",
      "[[45470    20]\n",
      " [   26    53]]\n",
      "\n",
      "\n",
      "Training time:  2.796205759048462\n",
      "********************************************************************************\n",
      "RandomForestClassifier\n",
      "Important features: \n",
      "\n",
      "Index(['V10', 'V11', 'V12', 'V14', 'V16', 'V17', 'V18'], dtype='object')\n",
      "\n",
      "              precision    recall  f1-score   support\n",
      "\n",
      "           0       1.00      1.00      1.00     45490\n",
      "           1       0.97      0.72      0.83        79\n",
      "\n",
      "    accuracy                           1.00     45569\n",
      "   macro avg       0.98      0.86      0.91     45569\n",
      "weighted avg       1.00      1.00      1.00     45569\n",
      "\n",
      "roc_auc_score_weighted:  0.8607375108175116\n",
      "\n",
      "Confusion matrix:\n",
      "[[45488     2]\n",
      " [   22    57]]\n",
      "\n",
      "\n",
      "Training time:  96.88732838630676\n"
     ]
    }
   ],
   "source": [
    "for clf in [DecisionTreeClassifier(), RandomForestClassifier()]:\n",
    "    print(\"*\"*80)\n",
    "    print(clf.__class__.__name__)\n",
    "    \n",
    "    sel = SelectFromModel(clf)\n",
    "    sel.fit(X_trans_train, y_trans_train)\n",
    "    print(\"Important features: \\n\")\n",
    "    best_features = X_train_baseline.columns[(sel.get_support())]\n",
    "    print(best_features)\n",
    "\n",
    "    X_train_sel = X_trans_train.loc[:, best_features]\n",
    "    X_test_sel = X_trans_test.loc[:, best_features]\n",
    "    y_train_sel = y_train_baseline\n",
    "    y_test_sel = y_test_baseline\n",
    "\n",
    "    start = time.time()\n",
    "    clf.fit(X_train_sel, y_train_sel)\n",
    "    y_pred_sel = clf.predict(X_test_sel)\n",
    "    end = time.time()\n",
    "    \n",
    "    print(\"\\n{}\".format(classification_report(y_test_sel, y_pred_sel)))\n",
    "    print('roc_auc_score_weighted: ', roc_auc_score(y_test_sel, y_pred_sel, average='weighted'))\n",
    "    print(\"\\nConfusion matrix:\\n{}\\n\".format(confusion_matrix(y_test_sel, y_pred_sel)))\n",
    "    print(\"\\nTraining time: \", end-start)"
   ]
  },
  {
   "cell_type": "markdown",
   "metadata": {},
   "source": [
    "\n",
    "## Model optimization"
   ]
  },
  {
   "cell_type": "code",
   "execution_count": 51,
   "metadata": {},
   "outputs": [
    {
     "name": "stdout",
     "output_type": "stream",
     "text": [
      "Index(['V10', 'V11', 'V12', 'V14', 'V16', 'V17', 'V18'], dtype='object') (227845, 7)\n",
      "(227845,)\n",
      "********************************************************************************\n",
      "Training model DecisionTrees{'criterion': ['entropy', 'gini'], 'max_depth': [3, 5, 10, 20], 'max_features': array([1, 2, 3, 4, 5, 6]), 'class_weight': ['balanced', None], 'random_state': [42]}\n",
      "\n",
      "Fitting 3 folds for each of 10 candidates, totalling 30 fits\n"
     ]
    },
    {
     "name": "stderr",
     "output_type": "stream",
     "text": [
      "[Parallel(n_jobs=-1)]: Using backend LokyBackend with 2 concurrent workers.\n",
      "[Parallel(n_jobs=-1)]: Done  30 out of  30 | elapsed:   39.9s finished\n"
     ]
    },
    {
     "name": "stdout",
     "output_type": "stream",
     "text": [
      "\n",
      "Training time:  46.6260027885437\n",
      "********************************************************************************\n",
      "Training model RandomForest{'bootstrap': [True, False], 'max_depth': [3, 5, 10, 20, 50], 'n_estimators': [50, 100, 200, 500], 'max_features': ['auto', 'sqrt'], 'class_weight': ['balanced', None]}\n",
      "\n",
      "Fitting 3 folds for each of 10 candidates, totalling 30 fits\n"
     ]
    },
    {
     "name": "stderr",
     "output_type": "stream",
     "text": [
      "[Parallel(n_jobs=-1)]: Using backend LokyBackend with 2 concurrent workers.\n",
      "[Parallel(n_jobs=-1)]: Done  30 out of  30 | elapsed: 43.2min finished\n"
     ]
    },
    {
     "name": "stdout",
     "output_type": "stream",
     "text": [
      "\n",
      "Training time:  2694.097030878067\n",
      "\n",
      "GridSearch time:  2740.72700047493\n"
     ]
    },
    {
     "data": {
      "text/plain": [
       "\"\\nNOTE:\\n\\n'f1_weighted':\\nCalculate metrics for each label, and find their average weighted by support \\n(the number of true instances for each label). This alters ‘macro’ to account \\nfor label imbalance; it can result in an F-score that is not between precision and recall.\\n\""
      ]
     },
     "execution_count": 51,
     "metadata": {},
     "output_type": "execute_result"
    }
   ],
   "source": [
    "best_features = ['V10', 'V11', 'V12', 'V14', 'V16', 'V17', 'V18']\n",
    "X_opt = train_dataset_df.loc[:, best_features]\n",
    "y_opt = train_dataset_df[['Class']].to_numpy().flatten()\n",
    "\n",
    "print(X_opt.columns, X_opt.shape)\n",
    "print(y_opt.shape)\n",
    "\n",
    "forest_param_grid = {\n",
    "    'bootstrap': [True, False],\n",
    "    'max_depth': [3, 5, 10, 20, 50],\n",
    "    'n_estimators': [50, 100, 200, 500],\n",
    "    'max_features': ['auto', 'sqrt'],\n",
    "    'class_weight': ['balanced', None]\n",
    "}\n",
    "\n",
    "tree_param_grid = {\n",
    "    'criterion': ['entropy', 'gini'],\n",
    "    'max_depth': [3, 5, 10, 20],\n",
    "    'max_features': np.arange(1, X_opt.shape[1]),\n",
    "    'class_weight': ['balanced', None],\n",
    "    'random_state': [None]\n",
    "}\n",
    "\n",
    "set_classifiers = {\n",
    "    'DecisionTrees': {\n",
    "        'model': DecisionTreeClassifier(),\n",
    "        'params': tree_param_grid\n",
    "    },\n",
    "    'RandomForest': {\n",
    "        'model': RandomForestClassifier(),\n",
    "        'params': forest_param_grid\n",
    "    }\n",
    "}\n",
    "\n",
    "sss = StratifiedShuffleSplit(n_splits=3, test_size=.2, random_state=None)\n",
    "classifiers_info = dict()\n",
    "start_global = time.time()\n",
    "\n",
    "for model_name, model_info in set_classifiers.items():\n",
    "    print(\"*\"*80)\n",
    "    clf_key = model_name\n",
    "    print(f'Training model {clf_key}\\n')\n",
    "    classifiers_info[clf_key] = {}\n",
    "    rnd_search = RandomizedSearchCV(model_info['model'],\n",
    "                                    model_info['params'],\n",
    "                                    scoring='f1_weighted', # READ THE NOTE BELOW\n",
    "                                    cv=sss,\n",
    "                                    verbose=3,\n",
    "                                    n_jobs=-1)\n",
    "    start = time.time()\n",
    "    rnd_search.fit(X_opt, y_opt)\n",
    "    end = time.time() \n",
    "    classifiers_info[clf_key]['estimator'] = rnd_search\n",
    "    print(\"\\nTraining time: \", end - start)\n",
    "\n",
    "end_global = time.time()\n",
    "print(\"\\nGridSearch time: \", end_global - start_global)\n",
    "\n",
    "\"\"\"\n",
    "NOTE:\n",
    "\n",
    "'f1_weighted':\n",
    "Calculate metrics for each label, and find their average weighted by support \n",
    "(the number of true instances for each label). This alters ‘macro’ to account \n",
    "for label imbalance; it can result in an F-score that is not between precision and recall.\n",
    "\"\"\""
   ]
  },
  {
   "cell_type": "code",
   "execution_count": 65,
   "metadata": {},
   "outputs": [
    {
     "name": "stdout",
     "output_type": "stream",
     "text": [
      "Best estimators\n"
     ]
    },
    {
     "data": {
      "text/plain": [
       "dict_values([{'estimator': DecisionTreeClassifier(ccp_alpha=0.0, class_weight=None, criterion='entropy',\n",
       "                       max_depth=5, max_features=6, max_leaf_nodes=None,\n",
       "                       min_impurity_decrease=0.0, min_impurity_split=None,\n",
       "                       min_samples_leaf=1, min_samples_split=2,\n",
       "                       min_weight_fraction_leaf=0.0, presort='deprecated',\n",
       "                       random_state=42, splitter='best')}, {'estimator': RandomForestClassifier(bootstrap=False, ccp_alpha=0.0, class_weight=None,\n",
       "                       criterion='gini', max_depth=20, max_features='auto',\n",
       "                       max_leaf_nodes=None, max_samples=None,\n",
       "                       min_impurity_decrease=0.0, min_impurity_split=None,\n",
       "                       min_samples_leaf=1, min_samples_split=2,\n",
       "                       min_weight_fraction_leaf=0.0, n_estimators=50,\n",
       "                       n_jobs=None, oob_score=False, random_state=None,\n",
       "                       verbose=0, warm_start=False)}])"
      ]
     },
     "execution_count": 65,
     "metadata": {},
     "output_type": "execute_result"
    }
   ],
   "source": [
    "rf_clf = RandomForestClassifier(bootstrap=False, ccp_alpha=0.0, class_weight=None,\n",
    "                       criterion='gini', max_depth=20, max_features='auto',\n",
    "                       max_leaf_nodes=None, max_samples=None,\n",
    "                       min_impurity_decrease=0.0, min_impurity_split=None,\n",
    "                       min_samples_leaf=1, min_samples_split=2,\n",
    "                       min_weight_fraction_leaf=0.0, n_estimators=50,\n",
    "                       n_jobs=None, oob_score=False, random_state=None,\n",
    "                       verbose=0, warm_start=False)\n",
    "\n",
    "dt_clf = DecisionTreeClassifier(ccp_alpha=0.0, class_weight=None, criterion='entropy',\n",
    "                       max_depth=5, max_features=6, max_leaf_nodes=None,\n",
    "                       min_impurity_decrease=0.0, min_impurity_split=None,\n",
    "                       min_samples_leaf=1, min_samples_split=2,\n",
    "                       min_weight_fraction_leaf=0.0, presort='deprecated',\n",
    "                       random_state=None, splitter='best')"
   ]
  },
  {
   "cell_type": "markdown",
   "metadata": {},
   "source": [
    "## Model evaluation"
   ]
  },
  {
   "cell_type": "code",
   "execution_count": 16,
   "metadata": {},
   "outputs": [],
   "source": [
    "best_features = ['V10', 'V11', 'V12', 'V14', 'V16', 'V17', 'V18']\n",
    "df_train, df_test = train_test_split(training_data_df.loc[:, best_features+['Class']], \n",
    "                                                 test_size=.2, shuffle=True, \n",
    "                                                 stratify=training_data_df[['Class']], \n",
    "                                                 random_state=np.random.RandomState())\n",
    "X_train = df_train.iloc[:, :-1]\n",
    "y_train = df_train[['Class']].to_numpy().flatten()\n",
    "X_test = df_test.iloc[:, :-1]\n",
    "y_test = df_test[['Class']].to_numpy().flatten()"
   ]
  },
  {
   "cell_type": "code",
   "execution_count": 18,
   "metadata": {},
   "outputs": [
    {
     "data": {
      "text/plain": [
       "RandomForestClassifier(bootstrap=False, ccp_alpha=0.0, class_weight=None,\n",
       "                       criterion='gini', max_depth=20, max_features='auto',\n",
       "                       max_leaf_nodes=None, max_samples=None,\n",
       "                       min_impurity_decrease=0.0, min_impurity_split=None,\n",
       "                       min_samples_leaf=1, min_samples_split=2,\n",
       "                       min_weight_fraction_leaf=0.0, n_estimators=50,\n",
       "                       n_jobs=None, oob_score=False, random_state=None,\n",
       "                       verbose=0, warm_start=False)"
      ]
     },
     "execution_count": 18,
     "metadata": {},
     "output_type": "execute_result"
    }
   ],
   "source": [
    "rf_clf = RandomForestClassifier(bootstrap=False, ccp_alpha=0.0, class_weight=None,\n",
    "                       criterion='gini', max_depth=20, max_features='auto',\n",
    "                       max_leaf_nodes=None, max_samples=None,\n",
    "                       min_impurity_decrease=0.0, min_impurity_split=None,\n",
    "                       min_samples_leaf=1, min_samples_split=2,\n",
    "                       min_weight_fraction_leaf=0.0, n_estimators=50,\n",
    "                       n_jobs=None, oob_score=False, random_state=None,\n",
    "                       verbose=0, warm_start=False)\n",
    "\n",
    "dt_clf = DecisionTreeClassifier(ccp_alpha=0.0, class_weight=None, criterion='entropy',\n",
    "                       max_depth=5, max_features=6, max_leaf_nodes=None,\n",
    "                       min_impurity_decrease=0.0, min_impurity_split=None,\n",
    "                       min_samples_leaf=1, min_samples_split=2,\n",
    "                       min_weight_fraction_leaf=0.0, presort='deprecated',\n",
    "                       random_state=None, splitter='best')\n",
    "\n",
    "dt_clf.fit(X_train, y_train)\n",
    "rf_clf.fit(X_train, y_train)"
   ]
  },
  {
   "cell_type": "code",
   "execution_count": 20,
   "metadata": {},
   "outputs": [
    {
     "data": {
      "image/png": "[encoded data removed]",
      "text/plain": [
       "<Figure size 432x288 with 1 Axes>"
      ]
     },
     "metadata": {
      "needs_background": "light"
     },
     "output_type": "display_data"
    }
   ],
   "source": [
    "import matplotlib.pyplot as plt\n",
    "\n",
    "dt_disp = plot_roc_curve(dt_clf, X_test, y_test)\n",
    "ax = plt.gca()\n",
    "rf_disp = plot_roc_curve(rf_clf, X_test, y_test, ax=ax, alpha=0.8)\n",
    "plt.show()"
   ]
  },
  {
   "cell_type": "markdown",
   "metadata": {},
   "source": [
    "This difference exists because, in this dataset, the number of non-fraud cases greatly exceeds the number of fraud cases. Consequently, a large change in the number of false positives can lead to a small change in the false positive rate used in ROC analysis.\n",
    "\n",
    "Precision, on the other hand, by comparing false positives to true positives rather than true negatives, captures the effect of the large number of negative examples on the algorithm’s performance”\n",
    "\n",
    "Precision accounts for this imbalance, as it’s just looking at how accurate our positive predictions are. For these reasons, we have chosen precision-recall curves for hyperparameter tuning and model selection (algorithms optimizing for the area under the ROC curve are not guaranteed to optimize for the area under the PR curve).\n"
   ]
  },
  {
   "cell_type": "code",
   "execution_count": 33,
   "metadata": {},
   "outputs": [
    {
     "data": {
      "image/png": "[encoded data removed]",
      "text/plain": [
       "<Figure size 432x288 with 1 Axes>"
      ]
     },
     "metadata": {
      "needs_background": "light"
     },
     "output_type": "display_data"
    }
   ],
   "source": [
    "dt_disp = plot_precision_recall_curve(dt_clf, X_test, y_test)\n",
    "ax = plt.gca()\n",
    "rf_disp = plot_precision_recall_curve(rf_clf, X_test, y_test, ax=ax, alpha=0.8)\n",
    "plt.show()"
   ]
  },
  {
   "cell_type": "code",
   "execution_count": 35,
   "metadata": {},
   "outputs": [
    {
     "name": "stdout",
     "output_type": "stream",
     "text": [
      "********************************************************************************\n",
      "DecisionTreeClassifier\n",
      "\n",
      "              precision    recall  f1-score   support\n",
      "\n",
      "           0       1.00      1.00      1.00     45490\n",
      "           1       0.80      0.84      0.82        79\n",
      "\n",
      "    accuracy                           1.00     45569\n",
      "   macro avg       0.90      0.92      0.91     45569\n",
      "weighted avg       1.00      1.00      1.00     45569\n",
      "\n",
      "roc_auc_score_weighted:  0.9175456561603468\n",
      "\n",
      "Confusion matrix:\n",
      "[[45474    16]\n",
      " [   13    66]]\n",
      "\n",
      "Average precision score:  0.6727150439330845\n",
      "Balanced: accuracy:  0.9175456561603468\n",
      "Matthews correlation coefficient:  0.8196999452886456\n",
      "Jaccard score:  0.6947368421052632\n",
      "********************************************************************************\n",
      "RandomForestClassifier\n",
      "\n",
      "              precision    recall  f1-score   support\n",
      "\n",
      "           0       1.00      1.00      1.00     45490\n",
      "           1       0.88      0.77      0.82        79\n",
      "\n",
      "    accuracy                           1.00     45569\n",
      "   macro avg       0.94      0.89      0.91     45569\n",
      "weighted avg       1.00      1.00      1.00     45569\n",
      "\n",
      "roc_auc_score_weighted:  0.8859880179535911\n",
      "\n",
      "Confusion matrix:\n",
      "[[45482     8]\n",
      " [   18    61]]\n",
      "\n",
      "Average precision score:  0.683022046286387\n",
      "Balanced: accuracy:  0.8859880179535911\n",
      "Matthews correlation coefficient:  0.8259335147957181\n",
      "Jaccard score:  0.7011494252873564\n"
     ]
    }
   ],
   "source": [
    "for clf in [dt_clf, rf_clf]:\n",
    "    print(\"*\"*80)\n",
    "    print(clf.__class__.__name__)\n",
    "    y_pred = clf.predict(X_test)\n",
    "    print(\"\\n{}\".format(classification_report(y_test, y_pred)))\n",
    "    print('roc_auc_score_weighted: ', roc_auc_score(y_test, y_pred, average='weighted'))\n",
    "    print(\"\\nConfusion matrix:\\n{}\\n\".format(confusion_matrix(y_test, y_pred)))\n",
    "    print(\"Average precision score: \", average_precision_score(y_test, y_pred))\n",
    "    print(\"Balanced: accuracy: \", balanced_accuracy_score(y_test, y_pred))\n",
    "    print(\"Matthews correlation coefficient: \", matthews_corrcoef(y_test, y_pred))\n",
    "    print(\"Jaccard score: \", jaccard_score(y_test, y_pred))\n",
    "    "
   ]
  },
  {
   "cell_type": "markdown",
   "metadata": {},
   "source": [
    "False Positive (FP) - predicting fraud when the transaction was not fraud\n",
    "\n",
    "Consequences: Card is locked, card owner calls & explains the mistake, short investigation (security questions etc.), card is unlocked\n",
    "Estimated business cost: Low\n",
    "False Negative (FN) - predicting not fraud when the transaction was fraud\n",
    "\n",
    "Consequences: Fraud is reported, card is locked, larger investigation takes place, card company liable for refunding\n",
    "Estimated business cost: High\n",
    "It would therefore seem that our goals should really be to minimize false negatives as much as possible, but not to the point of diminishing returns where a ridiculous number of transactions are being blocked. I’ll have to make some fairly broad assumptions (limited information), but business knowledge would help here in industry.\n",
    "\n",
    "Assumptions:\n",
    "\n",
    "cost(FN) = cost of fraud refund + 3hrs investigation\n",
    "cost(FP) = 20min investigation\n",
    "The cost of a fraud refund is the dataset average fraud value: 122.21\n",
    "The cost of 1hr investigation time is the average call-centre hourly pay: £7.80\n",
    "I therefore end up at the costs seen below:\n",
    "\n",
    "cost(FN) = 145.6113211\n",
    "cost(FP) = 2.6"
   ]
  },
  {
   "cell_type": "markdown",
   "metadata": {},
   "source": [
    "# Model testing"
   ]
  },
  {
   "cell_type": "code",
   "execution_count": 35,
   "metadata": {},
   "outputs": [],
   "source": [
    "test_data_df = pd.read_csv('./dataset/fraud_testing.csv', index_col=0)\n",
    "\n",
    "best_features = ['V10', 'V11', 'V12', 'V14', 'V16', 'V17', 'V18']\n",
    "\n",
    "X_test = test_data_df.loc[:, best_features]\n",
    "y_test = test_data_df[['Class']].to_numpy().flatten()\n",
    "\n",
    "X_train = training_data_df.loc[:, best_features]\n",
    "y_train = training_data_df[['Class']].to_numpy().flatten()"
   ]
  },
  {
   "cell_type": "code",
   "execution_count": 36,
   "metadata": {},
   "outputs": [],
   "source": [
    "dt_clf = DecisionTreeClassifier(ccp_alpha=0.0, class_weight=None, criterion='entropy',\n",
    "                       max_depth=5, max_features=6, max_leaf_nodes=None,\n",
    "                       min_impurity_decrease=0.0, min_impurity_split=None,\n",
    "                       min_samples_leaf=1, min_samples_split=2,\n",
    "                       min_weight_fraction_leaf=0.0, presort='deprecated',\n",
    "                       random_state=None, splitter='best')\n",
    "\n",
    "dt_clf.fit(X_train, y_train)\n",
    "y_pred = dt_clf.predict(X_test)"
   ]
  },
  {
   "cell_type": "code",
   "execution_count": 39,
   "metadata": {},
   "outputs": [
    {
     "data": {
      "text/plain": [
       "<sklearn.metrics._plot.roc_curve.RocCurveDisplay at 0x7f42258485d0>"
      ]
     },
     "execution_count": 39,
     "metadata": {},
     "output_type": "execute_result"
    },
    {
     "data": {
      "image/png": "[encoded data removed]",
      "text/plain": [
       "<Figure size 432x288 with 1 Axes>"
      ]
     },
     "metadata": {
      "needs_background": "light"
     },
     "output_type": "display_data"
    }
   ],
   "source": [
    "plot_roc_curve(dt_clf, X_test, y_test, alpha=0.8)"
   ]
  },
  {
   "cell_type": "code",
   "execution_count": 41,
   "metadata": {},
   "outputs": [
    {
     "data": {
      "text/plain": [
       "<sklearn.metrics._plot.precision_recall_curve.PrecisionRecallDisplay at 0x7f421bae9f50>"
      ]
     },
     "execution_count": 41,
     "metadata": {},
     "output_type": "execute_result"
    },
    {
     "data": {
      "image/png": "[encoded data removed]",
      "text/plain": [
       "<Figure size 432x288 with 1 Axes>"
      ]
     },
     "metadata": {
      "needs_background": "light"
     },
     "output_type": "display_data"
    }
   ],
   "source": [
    "plot_precision_recall_curve(dt_clf, X_test, y_test, alpha=0.8)\n"
   ]
  },
  {
   "cell_type": "code",
   "execution_count": 44,
   "metadata": {},
   "outputs": [
    {
     "name": "stdout",
     "output_type": "stream",
     "text": [
      "********************************************************************************\n",
      "DecisionTreeClassifier\n",
      "\n",
      "              precision    recall  f1-score   support\n",
      "\n",
      "           0       1.00      1.00      1.00     56864\n",
      "           1       0.84      0.82      0.83        98\n",
      "\n",
      "    accuracy                           1.00     56962\n",
      "   macro avg       0.92      0.91      0.91     56962\n",
      "weighted avg       1.00      1.00      1.00     56962\n",
      "\n",
      "roc_auc_score_weighted:  0.9080313716651546\n",
      "\n",
      "Confusion matrix:\n",
      "[[56849    15]\n",
      " [   18    80]]\n",
      "\n",
      "Average precision score:  0.6877488680244402\n",
      "Balanced: accuracy:  0.9080313716651545\n",
      "Matthews correlation coefficient:  0.8288259313544596\n",
      "Jaccard score:  0.7079646017699115\n"
     ]
    }
   ],
   "source": [
    "for clf in [dt_clf]:\n",
    "    print(\"*\"*80)\n",
    "    print(clf.__class__.__name__)\n",
    "    y_pred = clf.predict(X_test)\n",
    "    print(\"\\n{}\".format(classification_report(y_test, y_pred)))\n",
    "    print('roc_auc_score_weighted: ', roc_auc_score(y_test, y_pred, average='weighted'))\n",
    "    print(\"\\nConfusion matrix:\\n{}\\n\".format(confusion_matrix(y_test, y_pred)))\n",
    "    print(\"Average precision score: \", average_precision_score(y_test, y_pred))\n",
    "    print(\"Balanced: accuracy: \", balanced_accuracy_score(y_test, y_pred))\n",
    "    print(\"Matthews correlation coefficient: \", matthews_corrcoef(y_test, y_pred))\n",
    "    print(\"Jaccard score: \", jaccard_score(y_test, y_pred))"
   ]
  },
  {
   "cell_type": "markdown",
   "metadata": {},
   "source": [
    "# Conclusion\n",
    "\n",
    "## Business impact\n",
    "\n",
    "The total dataset is data taken over a 2-day period, and test data is 20% of this.\n",
    "\n",
    "- 246 frauds per day\n",
    "- If we fail to predict any of these (i.e. with NO fraud detection system), they will all take the ‘false negative’ cost: 145.61\n",
    "    - Annual business cost = __(€ 145.61)(246)(365) = € 13,074,440.52__\n",
    "\n",
    "With our final model, we achieved errors of 18 FN’s and 15 FP’s, with a __€ 2649__\n",
    "\n",
    "__New annual business cost__ = (€ 2649)(2)(365) = __€ 1,933,770__\n",
    "\n",
    "Therefore, an upper bound estimate for __annual cost-savings__ is: € 13.074.440 - € 1.933.770 =~ __€ 11.14M__\n",
    "\n",
    "This is a __reduction in fraud-handling costs of ~85%__!"
   ]
  },
  {
   "cell_type": "markdown",
   "metadata": {},
   "source": [
    "# References\n",
    "https://www.kaggle.com/mlg-ulb/creditcardfraud/notebooks?sortBy=voteCount&group=everyone&pageSize=20&datasetId=310\n",
    "\n",
    "## Winners\n",
    "https://www.kaggle.com/janiobachmann/credit-fraud-dealing-with-imbalanced-datasets#Test-Data-with-Logistic-Regression:\n",
    "\n",
    "## Good explanantion\n",
    "https://www.kaggle.com/lmorgan95/fraud-detection-smote-xgboost-business-impact#cut-off-experimentation\n",
    "https://www.kaggle.com/pavansanagapati/anomaly-detection-credit-card-fraud-analysis\n",
    "https://www.kaggle.com/dstuerzer/optimized-logistic-regression#Validation-of-the-final-model\n",
    "\n",
    "## Ideas to get from\n",
    "https://www.kaggle.com/lmorgan95/fraud-detection-smote-xgboost-business-impact#cut-off-experimentation\n",
    "https://www.kaggle.com/eikedehling/exploring-class-imbalance-resampling-and-weights\n",
    "https://www.kaggle.com/pavansanagapati/anomaly-detection-credit-card-fraud-analysis\n",
    "https://www.kaggle.com/dstuerzer/optimized-logistic-regression#Validation-of-the-final-model\n",
    "https://www.kaggle.com/nareshbhat/fraud-detection-feature-selection-over-sampling\n",
    "\n",
    "## Data exploration\n",
    "https://www.kaggle.com/gpreda/credit-card-fraud-detection-predictive-models#Load-packages\n",
    "\n",
    "## Imbalanced dataset\n",
    "https://www.kaggle.com/gargmanish/how-to-handle-imbalance-data-study-in-detail\n",
    "https://www.kaggle.com/qianchao/smote-with-imbalance-data\n",
    "https://www.kaggle.com/residentmario/undersampling-and-oversampling-imbalanced-data\n",
    "https://www.kaggle.com/tboyle10/methods-for-dealing-with-imbalanced-data\n",
    "https://www.kaggle.com/parvezahmedshaikh/smote-and-undersampling-credit-card-fraud-dataset\n",
    "\n",
    "## No ROC\n",
    "https://www.kaggle.com/lct14558/imbalanced-data-why-you-should-not-use-roc-curve#Conclusion\n",
    "\n",
    "## Precision vs Recall and F1\n",
    "https://www.kaggle.com/joparga3/in-depth-skewed-data-classif-93-recall-acc-now\n",
    "https://www.kaggle.com/eikedehling/exploring-class-imbalance-resampling-and-weights\n",
    "\n",
    "## Hyperparameters tuning\n",
    "https://www.kaggle.com/pavansanagapati/automated-hyperparameter-tuning\n",
    "https://www.kaggle.com/thiagopanini/credit-fraud-how-to-choose-the-best-classifier\n",
    "\n",
    "## Blogs\n",
    "https://medium.com/@vitorgabo/credit-card-fraud-detection-34935dda1a4d\n",
    "https://medium.com/@Nethone_/a-beginners-guide-to-machine-learning-in-payment-fraud-detection-prevention-360c95a9ca54"
   ]
  }
 ],
 "metadata": {
  "kernelspec": {
   "display_name": "Python 3",
   "language": "python",
   "name": "python3"
  },
  "language_info": {
   "codemirror_mode": {
    "name": "ipython",
    "version": 3
   },
   "file_extension": ".py",
   "mimetype": "text/x-python",
   "name": "python",
   "nbconvert_exporter": "python",
   "pygments_lexer": "ipython3",
   "version": "3.7.7"
  }
 },
 "nbformat": 4,
 "nbformat_minor": 4
}
